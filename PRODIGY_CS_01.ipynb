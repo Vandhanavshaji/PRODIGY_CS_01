{
  "nbformat": 4,
  "nbformat_minor": 0,
  "metadata": {
    "colab": {
      "provenance": []
    },
    "kernelspec": {
      "name": "python3",
      "display_name": "Python 3"
    },
    "language_info": {
      "name": "python"
    }
  },
  "cells": [
    {
      "cell_type": "code",
      "execution_count": 2,
      "metadata": {
        "colab": {
          "base_uri": "https://localhost:8080/"
        },
        "id": "3UksufdcGLi3",
        "outputId": "b2fb2815-3bd4-45ce-f7ab-0325e786f960"
      },
      "outputs": [
        {
          "output_type": "stream",
          "name": "stdout",
          "text": [
            "Enter the text: Hello\n",
            "Enter the shift value (integer): 3\n",
            "Enter 'encrypt' to encrypt or 'decrypt' to decrypt: encrypt\n",
            "Encrypted text: Khoor\n"
          ]
        }
      ],
      "source": [
        "def caesar_cipher(text, shift, encrypt=True):\n",
        "    result = \"\"\n",
        "    for char in text:\n",
        "        if char.isalpha():\n",
        "            start = ord('A') if char.isupper() else ord('a')\n",
        "            offset = shift if encrypt else -shift\n",
        "            new_char = chr(start + (ord(char) - start + offset) % 26)\n",
        "            result += new_char\n",
        "        else:\n",
        "            result += char\n",
        "    return result\n",
        "\n",
        "# Example\n",
        "text = input(\"Enter the text: \")\n",
        "shift = int(input(\"Enter the shift value (integer): \"))\n",
        "action = input(\"Enter 'encrypt' to encrypt or 'decrypt' to decrypt: \").strip().lower()\n",
        "\n",
        "if action == 'encrypt':\n",
        "    print(\"Encrypted text:\", caesar_cipher(text, shift, encrypt=True))\n",
        "elif action == 'decrypt':\n",
        "    print(\"Decrypted text:\", caesar_cipher(text, shift, encrypt=False))\n",
        "else:\n",
        "    print(\"Invalid action. Please enter 'encrypt' or 'decrypt'.\")\n"
      ]
    },
    {
      "cell_type": "code",
      "source": [
        "#Breaking down of the code\n",
        "#Caesar_cipher : a function\n",
        "#Parameters:\n",
        "   #text : message to be encrypted or decrypted\n",
        "   #shift : number of positions tobe shifted\n",
        "   #encrypt : a boolean indicating whether to encrypt or decrypt\n",
        "#result = \"\": An empty string to accumulate the processed characters.\n",
        "\n",
        "#for char in text : The function iterates through each charecter in the text.\n",
        "\n",
        "#if char.isalpha(): Checks if the character is a letter (either uppercase or lowercase).\n",
        "\n",
        "#Calculates the new position of the letter based on the shift value and whether it's encryption or decryption.\n",
        "#start = ord('A') if char.isupper() else ord('a') :Determines the ASCII code for 'A' or 'a', depending on whether the letter is uppercase or lowercase.\n",
        "\n",
        "#offset = shift if encrypt else -shift: Sets the shift value to positive for encryption or negative for decryption.\n",
        "\n",
        "#ord(char) : Returns the ASCII (or Unicode) code of the character char\n",
        "#start : Represents the ASCII code of the first letter of the alphabet in the given case.\n",
        "\n",
        "#ord(char) - start : Finds the character's position in the alphabet (e.g., 'A' = 0, 'B' = 1).\n",
        "\n",
        "#(ord(char) - start + offset) % 26: Applies the shift and wraps around using modulo 26 (the number of letters in the alphabet).\n",
        "# Converts the shifted index back to a character.\n",
        "\n",
        "#Appends the shifted character to the result string. If the character is not a letter, it is added to result unchanged. The result is then displayed"
      ],
      "metadata": {
        "id": "1QKsKoGmik-G"
      },
      "execution_count": 1,
      "outputs": []
    }
  ]
}